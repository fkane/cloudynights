{
 "cells": [
  {
   "cell_type": "markdown",
   "metadata": {},
   "source": [
    "Enter a 3-letter airport code for the US below, the date range you want, and how you want it aggregated: \"Y\" for year, \"M\" for month, \"D\" for day."
   ]
  },
  {
   "cell_type": "code",
   "execution_count": 1,
   "metadata": {},
   "outputs": [],
   "source": [
    "import json\n",
    "import time\n",
    "import datetime\n",
    "\n",
    "# timestamps in UTC to request data for\n",
    "startts = datetime.datetime(2000, 1, 1)\n",
    "endts = datetime.datetime(2019, 12, 31)\n",
    "station = \"SFB\"\n",
    "aggregate = \"Y\""
   ]
  },
  {
   "cell_type": "markdown",
   "metadata": {},
   "source": [
    "Look up the time zone for your airport code, so we can convert times to local times."
   ]
  },
  {
   "cell_type": "code",
   "execution_count": 2,
   "metadata": {},
   "outputs": [
    {
     "name": "stdout",
     "output_type": "stream",
     "text": [
      "America/New_York\n"
     ]
    }
   ],
   "source": [
    "zones = {}\n",
    "with open('iata.tzmap.txt', 'r') as inf:\n",
    "    for line in inf:\n",
    "        (iata, tz) = line.split()\n",
    "        zones[iata] = tz\n",
    "\n",
    "timezone = zones[station]\n",
    "print(timezone)"
   ]
  },
  {
   "cell_type": "markdown",
   "metadata": {},
   "source": [
    "The code below is straight from https://github.com/akrherz/iem/blob/master/scripts/asos/iem_scraper_example.py"
   ]
  },
  {
   "cell_type": "code",
   "execution_count": 3,
   "metadata": {},
   "outputs": [],
   "source": [
    "try:\n",
    "    from urllib.request import urlopen\n",
    "except ImportError:\n",
    "    from urllib2 import urlopen\n",
    "    \n",
    "# Number of attempts to download data\n",
    "MAX_ATTEMPTS = 6\n",
    "# HTTPS here can be problematic for installs that don't have Lets Encrypt CA\n",
    "SERVICE = \"http://mesonet.agron.iastate.edu/cgi-bin/request/asos.py?\""
   ]
  },
  {
   "cell_type": "code",
   "execution_count": 4,
   "metadata": {},
   "outputs": [],
   "source": [
    "def download_data(uri):\n",
    "    \"\"\"Fetch the data from the IEM\n",
    "    The IEM download service has some protections in place to keep the number\n",
    "    of inbound requests in check.  This function implements an exponential\n",
    "    backoff to keep individual downloads from erroring.\n",
    "    Args:\n",
    "      uri (string): URL to fetch\n",
    "    Returns:\n",
    "      string data\n",
    "    \"\"\"\n",
    "    attempt = 0\n",
    "    while attempt < MAX_ATTEMPTS:\n",
    "        try:\n",
    "            data = urlopen(uri, timeout=300).read().decode(\"utf-8\")\n",
    "            if data is not None and not data.startswith(\"ERROR\"):\n",
    "                return data\n",
    "        except Exception as exp:\n",
    "            print(\"download_data(%s) failed with %s\" % (uri, exp))\n",
    "            time.sleep(5)\n",
    "        attempt += 1\n",
    "\n",
    "    print(\"Exhausted attempts to download, returning empty data\")\n",
    "    return \"\"\n",
    "\n",
    "\n",
    "def get_stations_from_filelist(filename):\n",
    "    \"\"\"Build a listing of stations from a simple file listing the stations.\n",
    "    The file should simply have one station per line.\n",
    "    \"\"\"\n",
    "    stations = []\n",
    "    for line in open(filename):\n",
    "        stations.append(line.strip())\n",
    "    return stations\n",
    "\n",
    "\n",
    "def get_stations_from_networks():\n",
    "    \"\"\"Build a station list by using a bunch of IEM networks.\"\"\"\n",
    "    stations = []\n",
    "    states = \"\"\"AK AL AR AZ CA CO CT DE FL GA HI IA ID IL IN KS KY LA MA MD ME\n",
    "     MI MN MO MS MT NC ND NE NH NJ NM NV NY OH OK OR PA RI SC SD TN TX UT VA VT\n",
    "     WA WI WV WY\"\"\"\n",
    "    # IEM quirk to have Iowa AWOS sites in its own labeled network\n",
    "    networks = [\"AWOS\"]\n",
    "    for state in states.split():\n",
    "        networks.append(\"%s_ASOS\" % (state,))\n",
    "\n",
    "    for network in networks:\n",
    "        # Get metadata\n",
    "        uri = (\n",
    "            \"https://mesonet.agron.iastate.edu/\" \"geojson/network/%s.geojson\"\n",
    "        ) % (network,)\n",
    "        data = urlopen(uri)\n",
    "        jdict = json.load(data)\n",
    "        for site in jdict[\"features\"]:\n",
    "            stations.append(site[\"properties\"][\"sid\"])\n",
    "    return stations"
   ]
  },
  {
   "cell_type": "code",
   "execution_count": 5,
   "metadata": {},
   "outputs": [
    {
     "name": "stdout",
     "output_type": "stream",
     "text": [
      "Downloading: SFB\n"
     ]
    }
   ],
   "source": [
    "\"\"\"Our main method\"\"\"\n",
    "\n",
    "service = SERVICE + \"data=skyc1&tz=Etc/UTC&format=onlycomma&latlon=no&missing=empty&trace=T&direct=no&report_type=2&\"\n",
    "service += startts.strftime(\"year1=%Y&month1=%m&day1=%d&\")\n",
    "service += endts.strftime(\"year2=%Y&month2=%m&day2=%d&\")\n",
    "\n",
    "uri = \"%s&station=%s\" % (service, station)\n",
    "print(\"Downloading: %s\" % (station,))\n",
    "data = download_data(uri)\n",
    "outfn = \"%s.txt\" % (\n",
    "    station\n",
    ")\n",
    "out = open(outfn, \"w\")\n",
    "out.write(data)\n",
    "out.close()"
   ]
  },
  {
   "cell_type": "markdown",
   "metadata": {},
   "source": [
    "OK, so now we have a data file of METAR sky coverage data containing every individual measurement in the time period requested for a given airport. Let's load it up so we can mess with it."
   ]
  },
  {
   "cell_type": "code",
   "execution_count": 6,
   "metadata": {},
   "outputs": [],
   "source": [
    "import pandas as pd\n",
    "df = pd.read_csv(station + '.txt')"
   ]
  },
  {
   "cell_type": "markdown",
   "metadata": {},
   "source": [
    "Drop missing data"
   ]
  },
  {
   "cell_type": "code",
   "execution_count": 7,
   "metadata": {},
   "outputs": [
    {
     "name": "stdout",
     "output_type": "stream",
     "text": [
      "station    195357\n",
      "valid      195357\n",
      "skyc1      195297\n",
      "dtype: int64\n",
      "station    195184\n",
      "valid      195184\n",
      "skyc1      195124\n",
      "dtype: int64\n",
      "       station   valid\n",
      "skyc1                 \n",
      "BKN      20776   20776\n",
      "CLR     102087  102087\n",
      "FEW      35612   35612\n",
      "OVC      12543   12543\n",
      "SCT      21853   21853\n",
      "VV        2253    2253\n"
     ]
    }
   ],
   "source": [
    "print(df.count())\n",
    "df = df[df.skyc1 != '   ']\n",
    "print(df.count())\n",
    "print(df.groupby(df.skyc1).count())"
   ]
  },
  {
   "cell_type": "markdown",
   "metadata": {},
   "source": [
    "Convert the timestamps into datetime objects, and convert them to local time (so we can tell what is night vs. day)"
   ]
  },
  {
   "cell_type": "code",
   "execution_count": 8,
   "metadata": {},
   "outputs": [],
   "source": [
    "df['utctime'] = pd.to_datetime(df['valid'], format='%Y-%m-%d %H:%M', utc=True)\n",
    "df['localtime'] = df['utctime'].dt.tz_convert(timezone)"
   ]
  },
  {
   "cell_type": "code",
   "execution_count": 9,
   "metadata": {},
   "outputs": [
    {
     "data": {
      "text/html": [
       "<div>\n",
       "<style scoped>\n",
       "    .dataframe tbody tr th:only-of-type {\n",
       "        vertical-align: middle;\n",
       "    }\n",
       "\n",
       "    .dataframe tbody tr th {\n",
       "        vertical-align: top;\n",
       "    }\n",
       "\n",
       "    .dataframe thead th {\n",
       "        text-align: right;\n",
       "    }\n",
       "</style>\n",
       "<table border=\"1\" class=\"dataframe\">\n",
       "  <thead>\n",
       "    <tr style=\"text-align: right;\">\n",
       "      <th></th>\n",
       "      <th>station</th>\n",
       "      <th>valid</th>\n",
       "      <th>skyc1</th>\n",
       "      <th>utctime</th>\n",
       "      <th>localtime</th>\n",
       "    </tr>\n",
       "  </thead>\n",
       "  <tbody>\n",
       "    <tr>\n",
       "      <th>0</th>\n",
       "      <td>SFB</td>\n",
       "      <td>2000-01-01 00:53</td>\n",
       "      <td>FEW</td>\n",
       "      <td>2000-01-01 00:53:00+00:00</td>\n",
       "      <td>1999-12-31 19:53:00-05:00</td>\n",
       "    </tr>\n",
       "    <tr>\n",
       "      <th>1</th>\n",
       "      <td>SFB</td>\n",
       "      <td>2000-01-01 01:53</td>\n",
       "      <td>CLR</td>\n",
       "      <td>2000-01-01 01:53:00+00:00</td>\n",
       "      <td>1999-12-31 20:53:00-05:00</td>\n",
       "    </tr>\n",
       "    <tr>\n",
       "      <th>2</th>\n",
       "      <td>SFB</td>\n",
       "      <td>2000-01-01 02:53</td>\n",
       "      <td>CLR</td>\n",
       "      <td>2000-01-01 02:53:00+00:00</td>\n",
       "      <td>1999-12-31 21:53:00-05:00</td>\n",
       "    </tr>\n",
       "    <tr>\n",
       "      <th>3</th>\n",
       "      <td>SFB</td>\n",
       "      <td>2000-01-01 03:53</td>\n",
       "      <td>BKN</td>\n",
       "      <td>2000-01-01 03:53:00+00:00</td>\n",
       "      <td>1999-12-31 22:53:00-05:00</td>\n",
       "    </tr>\n",
       "    <tr>\n",
       "      <th>4</th>\n",
       "      <td>SFB</td>\n",
       "      <td>2000-01-01 04:53</td>\n",
       "      <td>FEW</td>\n",
       "      <td>2000-01-01 04:53:00+00:00</td>\n",
       "      <td>1999-12-31 23:53:00-05:00</td>\n",
       "    </tr>\n",
       "  </tbody>\n",
       "</table>\n",
       "</div>"
      ],
      "text/plain": [
       "  station             valid skyc1                   utctime  \\\n",
       "0     SFB  2000-01-01 00:53   FEW 2000-01-01 00:53:00+00:00   \n",
       "1     SFB  2000-01-01 01:53   CLR 2000-01-01 01:53:00+00:00   \n",
       "2     SFB  2000-01-01 02:53   CLR 2000-01-01 02:53:00+00:00   \n",
       "3     SFB  2000-01-01 03:53   BKN 2000-01-01 03:53:00+00:00   \n",
       "4     SFB  2000-01-01 04:53   FEW 2000-01-01 04:53:00+00:00   \n",
       "\n",
       "                  localtime  \n",
       "0 1999-12-31 19:53:00-05:00  \n",
       "1 1999-12-31 20:53:00-05:00  \n",
       "2 1999-12-31 21:53:00-05:00  \n",
       "3 1999-12-31 22:53:00-05:00  \n",
       "4 1999-12-31 23:53:00-05:00  "
      ]
     },
     "execution_count": 9,
     "metadata": {},
     "output_type": "execute_result"
    }
   ],
   "source": [
    "df.head()"
   ]
  },
  {
   "cell_type": "markdown",
   "metadata": {},
   "source": [
    "Now we'll add 3 boolean columns: is_nighttime, is_clear, and is_notclear. We define \"night\" as 6 PM - 6 AM. Also, we define \"clear\" as the \"CLR\" METAR code. If you're willing to observe when a few clouds are present, you could include \"FEW\" observations as well (although you would then want to look at the skyc2 and skyc3 fields as well to see if denser clouds existing in a layer above the \"few\" layer - it gets complicated.)"
   ]
  },
  {
   "cell_type": "code",
   "execution_count": 10,
   "metadata": {},
   "outputs": [],
   "source": [
    "df['hour'] = df['localtime'].dt.hour\n",
    "df['is_night'] = df['localtime'].dt.hour > 17 \n",
    "df['is_morning'] = df['localtime'].dt.hour < 6\n",
    "df['is_nighttime'] = df['is_night'] | df['is_morning']\n",
    "df['is_clear'] = df['skyc1'] == 'CLR'\n",
    "df['is_notclear'] = df['skyc1'] != 'CLR'\n",
    "df = df.drop(['station', 'valid', 'is_night', 'is_morning'], axis=1)"
   ]
  },
  {
   "cell_type": "code",
   "execution_count": 11,
   "metadata": {},
   "outputs": [
    {
     "data": {
      "text/html": [
       "<div>\n",
       "<style scoped>\n",
       "    .dataframe tbody tr th:only-of-type {\n",
       "        vertical-align: middle;\n",
       "    }\n",
       "\n",
       "    .dataframe tbody tr th {\n",
       "        vertical-align: top;\n",
       "    }\n",
       "\n",
       "    .dataframe thead th {\n",
       "        text-align: right;\n",
       "    }\n",
       "</style>\n",
       "<table border=\"1\" class=\"dataframe\">\n",
       "  <thead>\n",
       "    <tr style=\"text-align: right;\">\n",
       "      <th></th>\n",
       "      <th>skyc1</th>\n",
       "      <th>utctime</th>\n",
       "      <th>localtime</th>\n",
       "      <th>hour</th>\n",
       "      <th>is_nighttime</th>\n",
       "      <th>is_clear</th>\n",
       "      <th>is_notclear</th>\n",
       "    </tr>\n",
       "  </thead>\n",
       "  <tbody>\n",
       "    <tr>\n",
       "      <th>0</th>\n",
       "      <td>FEW</td>\n",
       "      <td>2000-01-01 00:53:00+00:00</td>\n",
       "      <td>1999-12-31 19:53:00-05:00</td>\n",
       "      <td>19</td>\n",
       "      <td>True</td>\n",
       "      <td>False</td>\n",
       "      <td>True</td>\n",
       "    </tr>\n",
       "    <tr>\n",
       "      <th>1</th>\n",
       "      <td>CLR</td>\n",
       "      <td>2000-01-01 01:53:00+00:00</td>\n",
       "      <td>1999-12-31 20:53:00-05:00</td>\n",
       "      <td>20</td>\n",
       "      <td>True</td>\n",
       "      <td>True</td>\n",
       "      <td>False</td>\n",
       "    </tr>\n",
       "    <tr>\n",
       "      <th>2</th>\n",
       "      <td>CLR</td>\n",
       "      <td>2000-01-01 02:53:00+00:00</td>\n",
       "      <td>1999-12-31 21:53:00-05:00</td>\n",
       "      <td>21</td>\n",
       "      <td>True</td>\n",
       "      <td>True</td>\n",
       "      <td>False</td>\n",
       "    </tr>\n",
       "    <tr>\n",
       "      <th>3</th>\n",
       "      <td>BKN</td>\n",
       "      <td>2000-01-01 03:53:00+00:00</td>\n",
       "      <td>1999-12-31 22:53:00-05:00</td>\n",
       "      <td>22</td>\n",
       "      <td>True</td>\n",
       "      <td>False</td>\n",
       "      <td>True</td>\n",
       "    </tr>\n",
       "    <tr>\n",
       "      <th>4</th>\n",
       "      <td>FEW</td>\n",
       "      <td>2000-01-01 04:53:00+00:00</td>\n",
       "      <td>1999-12-31 23:53:00-05:00</td>\n",
       "      <td>23</td>\n",
       "      <td>True</td>\n",
       "      <td>False</td>\n",
       "      <td>True</td>\n",
       "    </tr>\n",
       "  </tbody>\n",
       "</table>\n",
       "</div>"
      ],
      "text/plain": [
       "  skyc1                   utctime                 localtime  hour  \\\n",
       "0   FEW 2000-01-01 00:53:00+00:00 1999-12-31 19:53:00-05:00    19   \n",
       "1   CLR 2000-01-01 01:53:00+00:00 1999-12-31 20:53:00-05:00    20   \n",
       "2   CLR 2000-01-01 02:53:00+00:00 1999-12-31 21:53:00-05:00    21   \n",
       "3   BKN 2000-01-01 03:53:00+00:00 1999-12-31 22:53:00-05:00    22   \n",
       "4   FEW 2000-01-01 04:53:00+00:00 1999-12-31 23:53:00-05:00    23   \n",
       "\n",
       "   is_nighttime  is_clear  is_notclear  \n",
       "0          True     False         True  \n",
       "1          True      True        False  \n",
       "2          True      True        False  \n",
       "3          True     False         True  \n",
       "4          True     False         True  "
      ]
     },
     "execution_count": 11,
     "metadata": {},
     "output_type": "execute_result"
    }
   ],
   "source": [
    "df.head()"
   ]
  },
  {
   "cell_type": "markdown",
   "metadata": {},
   "source": [
    "Drop any rows that are not at night, drop some of the columns we don't care about, and clamp all timestamps to the aggregation period we want."
   ]
  },
  {
   "cell_type": "code",
   "execution_count": 12,
   "metadata": {},
   "outputs": [
    {
     "data": {
      "text/html": [
       "<div>\n",
       "<style scoped>\n",
       "    .dataframe tbody tr th:only-of-type {\n",
       "        vertical-align: middle;\n",
       "    }\n",
       "\n",
       "    .dataframe tbody tr th {\n",
       "        vertical-align: top;\n",
       "    }\n",
       "\n",
       "    .dataframe thead th {\n",
       "        text-align: right;\n",
       "    }\n",
       "</style>\n",
       "<table border=\"1\" class=\"dataframe\">\n",
       "  <thead>\n",
       "    <tr style=\"text-align: right;\">\n",
       "      <th></th>\n",
       "      <th>localtime</th>\n",
       "      <th>is_clear</th>\n",
       "      <th>is_notclear</th>\n",
       "      <th>period</th>\n",
       "    </tr>\n",
       "  </thead>\n",
       "  <tbody>\n",
       "    <tr>\n",
       "      <th>0</th>\n",
       "      <td>1999-12-31 19:53:00-05:00</td>\n",
       "      <td>False</td>\n",
       "      <td>True</td>\n",
       "      <td>2000-01-01</td>\n",
       "    </tr>\n",
       "    <tr>\n",
       "      <th>1</th>\n",
       "      <td>1999-12-31 20:53:00-05:00</td>\n",
       "      <td>True</td>\n",
       "      <td>False</td>\n",
       "      <td>2000-01-01</td>\n",
       "    </tr>\n",
       "    <tr>\n",
       "      <th>2</th>\n",
       "      <td>1999-12-31 21:53:00-05:00</td>\n",
       "      <td>True</td>\n",
       "      <td>False</td>\n",
       "      <td>2000-01-01</td>\n",
       "    </tr>\n",
       "    <tr>\n",
       "      <th>3</th>\n",
       "      <td>1999-12-31 22:53:00-05:00</td>\n",
       "      <td>False</td>\n",
       "      <td>True</td>\n",
       "      <td>2000-01-01</td>\n",
       "    </tr>\n",
       "    <tr>\n",
       "      <th>4</th>\n",
       "      <td>1999-12-31 23:53:00-05:00</td>\n",
       "      <td>False</td>\n",
       "      <td>True</td>\n",
       "      <td>2000-01-01</td>\n",
       "    </tr>\n",
       "    <tr>\n",
       "      <th>...</th>\n",
       "      <td>...</td>\n",
       "      <td>...</td>\n",
       "      <td>...</td>\n",
       "      <td>...</td>\n",
       "    </tr>\n",
       "    <tr>\n",
       "      <th>160</th>\n",
       "      <td>2000-01-05 20:53:00-05:00</td>\n",
       "      <td>False</td>\n",
       "      <td>True</td>\n",
       "      <td>2000-01-01</td>\n",
       "    </tr>\n",
       "    <tr>\n",
       "      <th>161</th>\n",
       "      <td>2000-01-05 21:53:00-05:00</td>\n",
       "      <td>False</td>\n",
       "      <td>True</td>\n",
       "      <td>2000-01-01</td>\n",
       "    </tr>\n",
       "    <tr>\n",
       "      <th>162</th>\n",
       "      <td>2000-01-05 22:53:00-05:00</td>\n",
       "      <td>False</td>\n",
       "      <td>True</td>\n",
       "      <td>2000-01-01</td>\n",
       "    </tr>\n",
       "    <tr>\n",
       "      <th>163</th>\n",
       "      <td>2000-01-05 23:53:00-05:00</td>\n",
       "      <td>False</td>\n",
       "      <td>True</td>\n",
       "      <td>2000-01-01</td>\n",
       "    </tr>\n",
       "    <tr>\n",
       "      <th>164</th>\n",
       "      <td>2000-01-06 00:53:00-05:00</td>\n",
       "      <td>False</td>\n",
       "      <td>True</td>\n",
       "      <td>2000-01-01</td>\n",
       "    </tr>\n",
       "  </tbody>\n",
       "</table>\n",
       "<p>100 rows × 4 columns</p>\n",
       "</div>"
      ],
      "text/plain": [
       "                    localtime  is_clear  is_notclear     period\n",
       "0   1999-12-31 19:53:00-05:00     False         True 2000-01-01\n",
       "1   1999-12-31 20:53:00-05:00      True        False 2000-01-01\n",
       "2   1999-12-31 21:53:00-05:00      True        False 2000-01-01\n",
       "3   1999-12-31 22:53:00-05:00     False         True 2000-01-01\n",
       "4   1999-12-31 23:53:00-05:00     False         True 2000-01-01\n",
       "..                        ...       ...          ...        ...\n",
       "160 2000-01-05 20:53:00-05:00     False         True 2000-01-01\n",
       "161 2000-01-05 21:53:00-05:00     False         True 2000-01-01\n",
       "162 2000-01-05 22:53:00-05:00     False         True 2000-01-01\n",
       "163 2000-01-05 23:53:00-05:00     False         True 2000-01-01\n",
       "164 2000-01-06 00:53:00-05:00     False         True 2000-01-01\n",
       "\n",
       "[100 rows x 4 columns]"
      ]
     },
     "execution_count": 12,
     "metadata": {},
     "output_type": "execute_result"
    }
   ],
   "source": [
    "df_night = df[df['is_nighttime']]\n",
    "df_night = df_night.drop(['skyc1', 'hour', 'utctime', 'is_nighttime'], axis=1)\n",
    "df_night['period'] = df_night['localtime'].values.astype('datetime64[' + aggregate + ']')\n",
    "df_night.head(100)"
   ]
  },
  {
   "cell_type": "markdown",
   "metadata": {},
   "source": [
    "Split the data into different dataframes for clear and not-clear observations."
   ]
  },
  {
   "cell_type": "code",
   "execution_count": 13,
   "metadata": {},
   "outputs": [
    {
     "name": "stdout",
     "output_type": "stream",
     "text": [
      "                   localtime  is_clear  is_notclear     period\n",
      "1  1999-12-31 20:53:00-05:00      True        False 2000-01-01\n",
      "2  1999-12-31 21:53:00-05:00      True        False 2000-01-01\n",
      "5  2000-01-01 00:53:00-05:00      True        False 2000-01-01\n",
      "14 2000-01-01 18:53:00-05:00      True        False 2000-01-01\n",
      "15 2000-01-01 19:53:00-05:00      True        False 2000-01-01\n",
      "                   localtime  is_clear  is_notclear     period\n",
      "0  1999-12-31 19:53:00-05:00     False         True 2000-01-01\n",
      "3  1999-12-31 22:53:00-05:00     False         True 2000-01-01\n",
      "4  1999-12-31 23:53:00-05:00     False         True 2000-01-01\n",
      "19 2000-01-01 23:53:00-05:00     False         True 2000-01-01\n",
      "21 2000-01-02 01:53:00-05:00     False         True 2000-01-01\n"
     ]
    }
   ],
   "source": [
    "df_clearhours = df_night[df_night['is_clear']]\n",
    "print (df_clearhours.head())\n",
    "df_notclearhours = df_night[df_night['is_notclear']]\n",
    "print (df_notclearhours.head())"
   ]
  },
  {
   "cell_type": "markdown",
   "metadata": {},
   "source": [
    "Now perform the actual aggregation by day / month / year (whatever you asked for)"
   ]
  },
  {
   "cell_type": "code",
   "execution_count": 14,
   "metadata": {},
   "outputs": [],
   "source": [
    "clearHours = df_clearhours.groupby('period').count()\n",
    "notclearHours = df_notclearhours.groupby('period').count()"
   ]
  },
  {
   "cell_type": "markdown",
   "metadata": {},
   "source": [
    "Now merge the two together again, calculating the percentage of observations that reported \"clear\" for each time period."
   ]
  },
  {
   "cell_type": "code",
   "execution_count": 15,
   "metadata": {},
   "outputs": [
    {
     "data": {
      "text/html": [
       "<div>\n",
       "<style scoped>\n",
       "    .dataframe tbody tr th:only-of-type {\n",
       "        vertical-align: middle;\n",
       "    }\n",
       "\n",
       "    .dataframe tbody tr th {\n",
       "        vertical-align: top;\n",
       "    }\n",
       "\n",
       "    .dataframe thead th {\n",
       "        text-align: right;\n",
       "    }\n",
       "</style>\n",
       "<table border=\"1\" class=\"dataframe\">\n",
       "  <thead>\n",
       "    <tr style=\"text-align: right;\">\n",
       "      <th></th>\n",
       "      <th>localtime</th>\n",
       "      <th>is_clear</th>\n",
       "      <th>is_notclear</th>\n",
       "      <th>clearhours</th>\n",
       "      <th>notclearHours</th>\n",
       "      <th>percentClear</th>\n",
       "    </tr>\n",
       "    <tr>\n",
       "      <th>period</th>\n",
       "      <th></th>\n",
       "      <th></th>\n",
       "      <th></th>\n",
       "      <th></th>\n",
       "      <th></th>\n",
       "      <th></th>\n",
       "    </tr>\n",
       "  </thead>\n",
       "  <tbody>\n",
       "    <tr>\n",
       "      <th>2000-01-01</th>\n",
       "      <td>3076</td>\n",
       "      <td>3076</td>\n",
       "      <td>3076</td>\n",
       "      <td>3076</td>\n",
       "      <td>1761</td>\n",
       "      <td>0.635931</td>\n",
       "    </tr>\n",
       "    <tr>\n",
       "      <th>2001-01-01</th>\n",
       "      <td>2733</td>\n",
       "      <td>2733</td>\n",
       "      <td>2733</td>\n",
       "      <td>2733</td>\n",
       "      <td>1568</td>\n",
       "      <td>0.635434</td>\n",
       "    </tr>\n",
       "    <tr>\n",
       "      <th>2002-01-01</th>\n",
       "      <td>2883</td>\n",
       "      <td>2883</td>\n",
       "      <td>2883</td>\n",
       "      <td>2883</td>\n",
       "      <td>1457</td>\n",
       "      <td>0.664286</td>\n",
       "    </tr>\n",
       "    <tr>\n",
       "      <th>2003-01-01</th>\n",
       "      <td>2794</td>\n",
       "      <td>2794</td>\n",
       "      <td>2794</td>\n",
       "      <td>2794</td>\n",
       "      <td>1522</td>\n",
       "      <td>0.647359</td>\n",
       "    </tr>\n",
       "    <tr>\n",
       "      <th>2004-01-01</th>\n",
       "      <td>2851</td>\n",
       "      <td>2851</td>\n",
       "      <td>2851</td>\n",
       "      <td>2851</td>\n",
       "      <td>1477</td>\n",
       "      <td>0.658734</td>\n",
       "    </tr>\n",
       "  </tbody>\n",
       "</table>\n",
       "</div>"
      ],
      "text/plain": [
       "            localtime  is_clear  is_notclear  clearhours  notclearHours  \\\n",
       "period                                                                    \n",
       "2000-01-01       3076      3076         3076        3076           1761   \n",
       "2001-01-01       2733      2733         2733        2733           1568   \n",
       "2002-01-01       2883      2883         2883        2883           1457   \n",
       "2003-01-01       2794      2794         2794        2794           1522   \n",
       "2004-01-01       2851      2851         2851        2851           1477   \n",
       "\n",
       "            percentClear  \n",
       "period                    \n",
       "2000-01-01      0.635931  \n",
       "2001-01-01      0.635434  \n",
       "2002-01-01      0.664286  \n",
       "2003-01-01      0.647359  \n",
       "2004-01-01      0.658734  "
      ]
     },
     "execution_count": 15,
     "metadata": {},
     "output_type": "execute_result"
    }
   ],
   "source": [
    "totals = clearHours\n",
    "totals['clearhours'] = clearHours['is_clear']\n",
    "totals['notclearHours'] = notclearHours['is_clear']\n",
    "totals = totals.fillna(0)\n",
    "totals['percentClear'] = totals['clearhours'] / (totals['clearhours'] + totals['notclearHours'])\n",
    "totals.drop(['is_clear', 'is_notclear'], axis=1)\n",
    "totals.head()"
   ]
  },
  {
   "cell_type": "markdown",
   "metadata": {},
   "source": [
    "Plot the results, and save it to a file."
   ]
  },
  {
   "cell_type": "code",
   "execution_count": 16,
   "metadata": {},
   "outputs": [
    {
     "name": "stderr",
     "output_type": "stream",
     "text": [
      "E:\\Anaconda3\\lib\\site-packages\\pandas\\plotting\\_matplotlib\\converter.py:103: FutureWarning: Using an implicitly registered datetime converter for a matplotlib plotting method. The converter was registered by pandas on import. Future versions of pandas will require you to explicitly register matplotlib converters.\n",
      "\n",
      "To register the converters:\n",
      "\t>>> from pandas.plotting import register_matplotlib_converters\n",
      "\t>>> register_matplotlib_converters()\n",
      "  warnings.warn(msg, FutureWarning)\n"
     ]
    },
    {
     "data": {
      "image/png": "[encoded data removed]",
      "text/plain": [
       "<Figure size 1080x576 with 1 Axes>"
      ]
     },
     "metadata": {
      "needs_background": "light"
     },
     "output_type": "display_data"
    }
   ],
   "source": [
    "%matplotlib inline\n",
    "import matplotlib.pyplot as plt\n",
    "plt.plot(totals['percentClear'])\n",
    "fig = plt.gcf()\n",
    "plt.grid(True)\n",
    "fig.set_size_inches(15, 8)\n",
    "plt.title(station + \" Percentage of Clear Night Weather Observations\")\n",
    "plt.savefig(station + \".png\", bbox_inches='tight')\n",
    "plt.show()\n"
   ]
  },
  {
   "cell_type": "code",
   "execution_count": null,
   "metadata": {},
   "outputs": [],
   "source": []
  }
 ],
 "metadata": {
  "kernelspec": {
   "display_name": "Python 3",
   "language": "python",
   "name": "python3"
  },
  "language_info": {
   "codemirror_mode": {
    "name": "ipython",
    "version": 3
   },
   "file_extension": ".py",
   "mimetype": "text/x-python",
   "name": "python",
   "nbconvert_exporter": "python",
   "pygments_lexer": "ipython3",
   "version": "3.7.3"
  }
 },
 "nbformat": 4,
 "nbformat_minor": 2
}
